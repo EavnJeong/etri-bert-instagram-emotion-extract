{
 "cells": [
  {
   "cell_type": "code",
   "execution_count": 1,
   "metadata": {
    "colab": {
     "base_uri": "https://localhost:8080/",
     "height": 1000
    },
    "colab_type": "code",
    "executionInfo": {
     "elapsed": 16172,
     "status": "ok",
     "timestamp": 1599127768663,
     "user": {
      "displayName": "정성헌",
      "photoUrl": "",
      "userId": "12794350723891602651"
     },
     "user_tz": -540
    },
    "id": "jTCxzmaJWX2X",
    "outputId": "d9b990bc-f68d-48f5-f391-838d9f331013"
   },
   "outputs": [
    {
     "name": "stdout",
     "output_type": "stream",
     "text": [
      "Collecting keras-bert\n",
      "  Downloading https://files.pythonhosted.org/packages/e2/7f/95fabd29f4502924fa3f09ff6538c5a7d290dfef2c2fe076d3d1a16e08f0/keras-bert-0.86.0.tar.gz\n",
      "Requirement already satisfied: numpy in /usr/local/lib/python3.6/dist-packages (from keras-bert) (1.18.5)\n",
      "Requirement already satisfied: Keras>=2.4.3 in /usr/local/lib/python3.6/dist-packages (from keras-bert) (2.4.3)\n",
      "Collecting keras-transformer>=0.38.0\n",
      "  Downloading https://files.pythonhosted.org/packages/89/6c/d6f0c164f4cc16fbc0d0fea85f5526e87a7d2df7b077809e422a7e626150/keras-transformer-0.38.0.tar.gz\n",
      "Requirement already satisfied: pyyaml in /usr/local/lib/python3.6/dist-packages (from Keras>=2.4.3->keras-bert) (3.13)\n",
      "Requirement already satisfied: scipy>=0.14 in /usr/local/lib/python3.6/dist-packages (from Keras>=2.4.3->keras-bert) (1.4.1)\n",
      "Requirement already satisfied: h5py in /usr/local/lib/python3.6/dist-packages (from Keras>=2.4.3->keras-bert) (2.10.0)\n",
      "Collecting keras-pos-embd>=0.11.0\n",
      "  Downloading https://files.pythonhosted.org/packages/09/70/b63ed8fc660da2bb6ae29b9895401c628da5740c048c190b5d7107cadd02/keras-pos-embd-0.11.0.tar.gz\n",
      "Collecting keras-multi-head>=0.27.0\n",
      "  Downloading https://files.pythonhosted.org/packages/e6/32/45adf2549450aca7867deccfa04af80a0ab1ca139af44b16bc669e0e09cd/keras-multi-head-0.27.0.tar.gz\n",
      "Collecting keras-layer-normalization>=0.14.0\n",
      "  Downloading https://files.pythonhosted.org/packages/a4/0e/d1078df0494bac9ce1a67954e5380b6e7569668f0f3b50a9531c62c1fc4a/keras-layer-normalization-0.14.0.tar.gz\n",
      "Collecting keras-position-wise-feed-forward>=0.6.0\n",
      "  Downloading https://files.pythonhosted.org/packages/e3/59/f0faa1037c033059e7e9e7758e6c23b4d1c0772cd48de14c4b6fd4033ad5/keras-position-wise-feed-forward-0.6.0.tar.gz\n",
      "Collecting keras-embed-sim>=0.8.0\n",
      "  Downloading https://files.pythonhosted.org/packages/57/ef/61a1e39082c9e1834a2d09261d4a0b69f7c818b359216d4e1912b20b1c86/keras-embed-sim-0.8.0.tar.gz\n",
      "Requirement already satisfied: six in /usr/local/lib/python3.6/dist-packages (from h5py->Keras>=2.4.3->keras-bert) (1.15.0)\n",
      "Collecting keras-self-attention==0.46.0\n",
      "  Downloading https://files.pythonhosted.org/packages/15/6b/c804924a056955fa1f3ff767945187103cfc851ba9bd0fc5a6c6bc18e2eb/keras-self-attention-0.46.0.tar.gz\n",
      "Building wheels for collected packages: keras-bert, keras-transformer, keras-pos-embd, keras-multi-head, keras-layer-normalization, keras-position-wise-feed-forward, keras-embed-sim, keras-self-attention\n",
      "  Building wheel for keras-bert (setup.py) ... \u001b[?25l\u001b[?25hdone\n",
      "  Created wheel for keras-bert: filename=keras_bert-0.86.0-cp36-none-any.whl size=34145 sha256=547c8b05f0033dbc0fcba660c14683a97dc5ba3fa213055131dde66ca3448679\n",
      "  Stored in directory: /root/.cache/pip/wheels/66/f0/b1/748128b58562fc9e31b907bb5e2ab6a35eb37695e83911236b\n",
      "  Building wheel for keras-transformer (setup.py) ... \u001b[?25l\u001b[?25hdone\n",
      "  Created wheel for keras-transformer: filename=keras_transformer-0.38.0-cp36-none-any.whl size=12942 sha256=0a01148913fec974f0b8f948dbbdbe82361a5d68bf4c2f442648714101a8f14f\n",
      "  Stored in directory: /root/.cache/pip/wheels/e5/fb/3a/37b2b9326c799aa010ae46a04ddb04f320d8c77c0b7e837f4e\n",
      "  Building wheel for keras-pos-embd (setup.py) ... \u001b[?25l\u001b[?25hdone\n",
      "  Created wheel for keras-pos-embd: filename=keras_pos_embd-0.11.0-cp36-none-any.whl size=7554 sha256=52e1f139d3249d2829bfe8ab9343e3f1ba9d83a7048e1d1a41ea490bfef6c8ef\n",
      "  Stored in directory: /root/.cache/pip/wheels/5b/a1/a0/ce6b1d49ba1a9a76f592e70cf297b05c96bc9f418146761032\n",
      "  Building wheel for keras-multi-head (setup.py) ... \u001b[?25l\u001b[?25hdone\n",
      "  Created wheel for keras-multi-head: filename=keras_multi_head-0.27.0-cp36-none-any.whl size=15612 sha256=1f2eb026c8b2427954d551517429abb58ed4c6785f202a6502cdeb6d1ec5d518\n",
      "  Stored in directory: /root/.cache/pip/wheels/b5/b4/49/0a0c27dcb93c13af02fea254ff51d1a43a924dd4e5b7a7164d\n",
      "  Building wheel for keras-layer-normalization (setup.py) ... \u001b[?25l\u001b[?25hdone\n",
      "  Created wheel for keras-layer-normalization: filename=keras_layer_normalization-0.14.0-cp36-none-any.whl size=5268 sha256=52f364c00bf26ee14530d6caf3f95af2f6536ff28903a064fe39e30cd9a2b498\n",
      "  Stored in directory: /root/.cache/pip/wheels/54/80/22/a638a7d406fd155e507aa33d703e3fa2612b9eb7bb4f4fe667\n",
      "  Building wheel for keras-position-wise-feed-forward (setup.py) ... \u001b[?25l\u001b[?25hdone\n",
      "  Created wheel for keras-position-wise-feed-forward: filename=keras_position_wise_feed_forward-0.6.0-cp36-none-any.whl size=5626 sha256=e44a6b31d6565d8281ddbbd405dcad01f518689452c4850141d24e6f43cd8c31\n",
      "  Stored in directory: /root/.cache/pip/wheels/39/e2/e2/3514fef126a00574b13bc0b9e23891800158df3a3c19c96e3b\n",
      "  Building wheel for keras-embed-sim (setup.py) ... \u001b[?25l\u001b[?25hdone\n",
      "  Created wheel for keras-embed-sim: filename=keras_embed_sim-0.8.0-cp36-none-any.whl size=4559 sha256=2001346593de441036e2e3b4f9da39c726fd986c19096c5c7560d93d7b1f68d5\n",
      "  Stored in directory: /root/.cache/pip/wheels/49/45/8b/c111f6cc8bec253e984677de73a6f4f5d2f1649f42aac191c8\n",
      "  Building wheel for keras-self-attention (setup.py) ... \u001b[?25l\u001b[?25hdone\n",
      "  Created wheel for keras-self-attention: filename=keras_self_attention-0.46.0-cp36-none-any.whl size=17278 sha256=13a4ac679947d0bfeef9c32fd6f6e57f2c54bfcccd0e2a56c8691a777d004bd4\n",
      "  Stored in directory: /root/.cache/pip/wheels/d2/2e/80/fec4c05eb23c8e13b790e26d207d6e0ffe8013fad8c6bdd4d2\n",
      "Successfully built keras-bert keras-transformer keras-pos-embd keras-multi-head keras-layer-normalization keras-position-wise-feed-forward keras-embed-sim keras-self-attention\n",
      "Installing collected packages: keras-pos-embd, keras-self-attention, keras-multi-head, keras-layer-normalization, keras-position-wise-feed-forward, keras-embed-sim, keras-transformer, keras-bert\n",
      "Successfully installed keras-bert-0.86.0 keras-embed-sim-0.8.0 keras-layer-normalization-0.14.0 keras-multi-head-0.27.0 keras-pos-embd-0.11.0 keras-position-wise-feed-forward-0.6.0 keras-self-attention-0.46.0 keras-transformer-0.38.0\n",
      "Collecting keras-radam\n",
      "  Downloading https://files.pythonhosted.org/packages/46/8d/b83ccaa94253fbc920b21981f038393041d92236bb541751b98a66a2ac1d/keras-radam-0.15.0.tar.gz\n",
      "Requirement already satisfied: numpy in /usr/local/lib/python3.6/dist-packages (from keras-radam) (1.18.5)\n",
      "Requirement already satisfied: Keras in /usr/local/lib/python3.6/dist-packages (from keras-radam) (2.4.3)\n",
      "Requirement already satisfied: h5py in /usr/local/lib/python3.6/dist-packages (from Keras->keras-radam) (2.10.0)\n",
      "Requirement already satisfied: pyyaml in /usr/local/lib/python3.6/dist-packages (from Keras->keras-radam) (3.13)\n",
      "Requirement already satisfied: scipy>=0.14 in /usr/local/lib/python3.6/dist-packages (from Keras->keras-radam) (1.4.1)\n",
      "Requirement already satisfied: six in /usr/local/lib/python3.6/dist-packages (from h5py->Keras->keras-radam) (1.15.0)\n",
      "Building wheels for collected packages: keras-radam\n",
      "  Building wheel for keras-radam (setup.py) ... \u001b[?25l\u001b[?25hdone\n",
      "  Created wheel for keras-radam: filename=keras_radam-0.15.0-cp36-none-any.whl size=14686 sha256=654c112ec0c56525630283931995f709388d383300099c7ba8c876798c9cd156\n",
      "  Stored in directory: /root/.cache/pip/wheels/79/a0/c0/670b0a118e8f078539fafec7bd02eba0af921f745660c7f83f\n",
      "Successfully built keras-radam\n",
      "Installing collected packages: keras-radam\n",
      "Successfully installed keras-radam-0.15.0\n"
     ]
    }
   ],
   "source": [
    "!pip install keras-bert\n",
    "!pip install keras-radam"
   ]
  },
  {
   "cell_type": "code",
   "execution_count": 2,
   "metadata": {
    "colab": {
     "base_uri": "https://localhost:8080/",
     "height": 128
    },
    "colab_type": "code",
    "executionInfo": {
     "elapsed": 26452,
     "status": "ok",
     "timestamp": 1599127786166,
     "user": {
      "displayName": "정성헌",
      "photoUrl": "",
      "userId": "12794350723891602651"
     },
     "user_tz": -540
    },
    "id": "zIX8xJteWPq2",
    "outputId": "18ab5150-2ebc-48e8-a693-5bcc968a7aba"
   },
   "outputs": [
    {
     "name": "stdout",
     "output_type": "stream",
     "text": [
      "Go to this URL in a browser: https://accounts.google.com/o/oauth2/auth?client_id=947318989803-6bn6qk8qdgf4n4g3pfee6491hc0brc4i.apps.googleusercontent.com&redirect_uri=urn%3aietf%3awg%3aoauth%3a2.0%3aoob&scope=email%20https%3a%2f%2fwww.googleapis.com%2fauth%2fdocs.test%20https%3a%2f%2fwww.googleapis.com%2fauth%2fdrive%20https%3a%2f%2fwww.googleapis.com%2fauth%2fdrive.photos.readonly%20https%3a%2f%2fwww.googleapis.com%2fauth%2fpeopleapi.readonly&response_type=code\n",
      "\n",
      "Enter your authorization code:\n",
      "··········\n",
      "Mounted at /content/gdrive/\n"
     ]
    }
   ],
   "source": [
    "import os\n",
    "from google.colab import drive\n",
    "drive.mount('/content/gdrive/')"
   ]
  },
  {
   "cell_type": "code",
   "execution_count": 3,
   "metadata": {
    "colab": {},
    "colab_type": "code",
    "executionInfo": {
     "elapsed": 161865,
     "status": "ok",
     "timestamp": 1599127921753,
     "user": {
      "displayName": "정성헌",
      "photoUrl": "",
      "userId": "12794350723891602651"
     },
     "user_tz": -540
    },
    "id": "Fat_me0-WNk-"
   },
   "outputs": [],
   "source": [
    "from keras_bert import load_trained_model_from_checkpoint, load_vocabulary\n",
    "\n",
    "SEQ_LEN=256\n",
    "config_path = '/content/gdrive/My Drive/bert_morp_tensorflow/bert_config.json'\n",
    "checkpoint_path = '/content/gdrive/My Drive/bert_morp_tensorflow/model.ckpt'\n",
    "\n",
    "model = load_trained_model_from_checkpoint(\n",
    "    config_path,\n",
    "    checkpoint_path,\n",
    "    training=True,\n",
    "    trainable=True,\n",
    "    seq_len=SEQ_LEN,)"
   ]
  },
  {
   "cell_type": "markdown",
   "metadata": {
    "colab": {
     "base_uri": "https://localhost:8080/",
     "height": 1000
    },
    "colab_type": "code",
    "executionInfo": {
     "elapsed": 161672,
     "status": "ok",
     "timestamp": 1599127921757,
     "user": {
      "displayName": "정성헌",
      "photoUrl": "",
      "userId": "12794350723891602651"
     },
     "user_tz": -540
    },
    "id": "lmF1jtu6XzLA",
    "outputId": "dd4f49df-2a65-4b66-fe89-f5a54682f103"
   },
   "source": [
    "model.summary()"
   ]
  },
  {
   "cell_type": "code",
   "execution_count": 5,
   "metadata": {
    "colab": {},
    "colab_type": "code",
    "executionInfo": {
     "elapsed": 161505,
     "status": "ok",
     "timestamp": 1599127921759,
     "user": {
      "displayName": "정성헌",
      "photoUrl": "",
      "userId": "12794350723891602651"
     },
     "user_tz": -540
    },
    "id": "4uzfvyxrYVQ8"
   },
   "outputs": [],
   "source": [
    "def get_bert_finetuning_model(model):\n",
    "  inputs = model.inputs[:2]\n",
    "  dense = model.layers[-3].output\n",
    "\n",
    "\n",
    "  outputs = keras.layers.Dense(1, activation='sigmoid',kernel_initializer=keras.initializers.TruncatedNormal(stddev=0.02),\n",
    "                              name = 'real_output')(dense)\n",
    "\n",
    "\n",
    "\n",
    "  bert_model = keras.models.Model(inputs, outputs)\n",
    "  bert_model.compile(\n",
    "      optimizer= keras.optimizers.Adam(learning_rate=0.0000001),\n",
    "      loss='binary_crossentropy',\n",
    "      metrics=['accuracy'])\n",
    "  \n",
    "  return bert_model"
   ]
  },
  {
   "cell_type": "code",
   "execution_count": 6,
   "metadata": {
    "colab": {
     "base_uri": "https://localhost:8080/",
     "height": 1000
    },
    "colab_type": "code",
    "executionInfo": {
     "elapsed": 160760,
     "status": "ok",
     "timestamp": 1599127921759,
     "user": {
      "displayName": "정성헌",
      "photoUrl": "",
      "userId": "12794350723891602651"
     },
     "user_tz": -540
    },
    "id": "atp4YiT7YWUQ",
    "outputId": "a069c4a8-fb96-4f07-afd7-8a218686e442"
   },
   "outputs": [],
   "source": [
    "import keras\n",
    "from keras_radam import RAdam\n",
    "\n",
    "import pandas as pd\n",
    "import numpy as np  \n",
    "import re\n",
    "import pickle\n",
    "\n",
    "import keras as keras\n",
    "from keras.models import load_model\n",
    "from keras import backend as K\n",
    "from keras import Input, Model\n",
    "from keras import optimizers\n",
    "\n",
    "import codecs\n",
    "from tqdm import tqdm\n",
    "import shutil\n",
    "\n",
    "etri_bert_model = get_bert_finetuning_model(model)"
   ]
  },
  {
   "cell_type": "markdown",
   "metadata": {
    "colab": {
     "base_uri": "https://localhost:8080/",
     "height": 1000
    },
    "colab_type": "code",
    "executionInfo": {
     "elapsed": 160760,
     "status": "ok",
     "timestamp": 1599127921759,
     "user": {
      "displayName": "정성헌",
      "photoUrl": "",
      "userId": "12794350723891602651"
     },
     "user_tz": -540
    },
    "id": "atp4YiT7YWUQ",
    "outputId": "a069c4a8-fb96-4f07-afd7-8a218686e442"
   },
   "source": [
    "etri_bert_model.summary()"
   ]
  },
  {
   "cell_type": "code",
   "execution_count": 7,
   "metadata": {
    "colab": {},
    "colab_type": "code",
    "executionInfo": {
     "elapsed": 160004,
     "status": "ok",
     "timestamp": 1599127921760,
     "user": {
      "displayName": "정성헌",
      "photoUrl": "",
      "userId": "12794350723891602651"
     },
     "user_tz": -540
    },
    "id": "5KykTSkdbqTB"
   },
   "outputs": [],
   "source": [
    "def convert_data(data_df):\n",
    "    SEQ_LEN = 64 #SEQ_LEN : 버트에 들어갈 인풋의 길이\n",
    "    \n",
    "    tokens, masks, segments, targets = [], [], [], []\n",
    "    \n",
    "    for i in tqdm(range(len(data_df))):\n",
    "        # token : 문장을 토큰화함\n",
    "        token = tokenizer.tokenize(data_df[DATA_COLUMN][i])\n",
    "        token = tokenizer.convert_tokens_to_ids(token)\n",
    "        token = token + [0]*(SEQ_LEN - len(token))\n",
    "        # 마스크는 토큰화한 문장에서 패딩이 아닌 부분은 1, 패딩인 부분은 0으로 통일\n",
    "        num_zeros = token.count(0)\n",
    "        mask = [1]*(SEQ_LEN-num_zeros) + [0]*num_zeros\n",
    "        \n",
    "        # 문장의 전후관계를 구분해주는 세그먼트는 문장이 1개밖에 없으므로 모두 0\n",
    "        segment = [0]*SEQ_LEN\n",
    "\n",
    "        # 버트 인풋으로 들어가는 token, mask, segment를 tokens, segments에 각각 저장\n",
    "        tokens.append(token)\n",
    "        masks.append(mask)\n",
    "        segments.append(segment)\n",
    "        \n",
    "        # 정답(긍정 : 1 부정 0)을 targets 변수에 저장해 줌\n",
    "        targets.append(data_df[LABEL_COLUMN][i])\n",
    "\n",
    "    # tokens, masks, segments, 정답 변수 targets를 numpy array로 지정    \n",
    "    tokens = np.array(tokens)\n",
    "    masks = np.array(masks)\n",
    "    segments = np.array(segments)\n",
    "    targets = np.array(targets)\n",
    "\n",
    "    return [tokens, segments], targets"
   ]
  },
  {
   "cell_type": "code",
   "execution_count": 8,
   "metadata": {
    "colab": {},
    "colab_type": "code",
    "executionInfo": {
     "elapsed": 159430,
     "status": "ok",
     "timestamp": 1599127921761,
     "user": {
      "displayName": "정성헌",
      "photoUrl": "",
      "userId": "12794350723891602651"
     },
     "user_tz": -540
    },
    "id": "y-wnHpUub4is"
   },
   "outputs": [],
   "source": [
    "def load_data(pandas_dataframe):\n",
    "    data_df = pandas_dataframe\n",
    "    data_df[DATA_COLUMN] = data_df[DATA_COLUMN].astype(str)\n",
    "    data_df[LABEL_COLUMN] = data_df[LABEL_COLUMN].astype(int)\n",
    "    data_x, data_y = convert_data(data_df)\n",
    "    return data_x, data_y"
   ]
  },
  {
   "cell_type": "code",
   "execution_count": 9,
   "metadata": {
    "colab": {},
    "colab_type": "code",
    "executionInfo": {
     "elapsed": 160910,
     "status": "ok",
     "timestamp": 1599127923611,
     "user": {
      "displayName": "정성헌",
      "photoUrl": "",
      "userId": "12794350723891602651"
     },
     "user_tz": -540
    },
    "id": "-8ybfuRAbuB9"
   },
   "outputs": [],
   "source": [
    "train = pd.read_table(\"/content/gdrive/My Drive/mydata/training.txt\")\n",
    "test = pd.read_table(\"/content/gdrive/My Drive/mydata/test.txt\")"
   ]
  },
  {
   "cell_type": "code",
   "execution_count": 10,
   "metadata": {
    "colab": {},
    "colab_type": "code",
    "executionInfo": {
     "elapsed": 160417,
     "status": "ok",
     "timestamp": 1599127923612,
     "user": {
      "displayName": "정성헌",
      "photoUrl": "",
      "userId": "12794350723891602651"
     },
     "user_tz": -540
    },
    "id": "oVQ3CL-AcYss"
   },
   "outputs": [],
   "source": [
    "import sys\n",
    "sys.path.append('/content/gdrive/My Drive/bert')\n",
    "#import tokenization_morp"
   ]
  },
  {
   "cell_type": "code",
   "execution_count": 11,
   "metadata": {
    "colab": {},
    "colab_type": "code",
    "executionInfo": {
     "elapsed": 161814,
     "status": "ok",
     "timestamp": 1599127926192,
     "user": {
      "displayName": "정성헌",
      "photoUrl": "",
      "userId": "12794350723891602651"
     },
     "user_tz": -540
    },
    "id": "DeTO36pmb5mm"
   },
   "outputs": [],
   "source": [
    "vocab_file = '/content/gdrive/My Drive/bert_morp_tensorflow/vocab.korean_morp.list'\n",
    "global tokenizer \n",
    "#tokenizer = tokenization_morp.FullTokenizer(vocab_file, do_lower_case=False)\n",
    "\n",
    "DATA_COLUMN = \"document\"\n",
    "LABEL_COLUMN = \"label\"\n",
    "\n",
    "import pickle\n",
    "with open('/content/gdrive/My Drive/mydata/data.pkl', 'rb') as f:\n",
    "  train_x = pickle.load(f)\n",
    "  train_y = pickle.load(f)\n",
    "  test_x = pickle.load(f)\n",
    "  test_y = pickle.load(f)"
   ]
  },
  {
   "cell_type": "code",
   "execution_count": 12,
   "metadata": {
    "colab": {
     "base_uri": "https://localhost:8080/",
     "height": 35
    },
    "colab_type": "code",
    "executionInfo": {
     "elapsed": 161297,
     "status": "ok",
     "timestamp": 1599127926194,
     "user": {
      "displayName": "정성헌",
      "photoUrl": "",
      "userId": "12794350723891602651"
     },
     "user_tz": -540
    },
    "id": "YpvD1yrFk9gV",
    "outputId": "bdf8ab5e-16db-43e1-91c7-c18554a490a0"
   },
   "outputs": [
    {
     "data": {
      "text/plain": [
       "((75792, 256), (75792, 256))"
      ]
     },
     "execution_count": 12,
     "metadata": {
      "tags": []
     },
     "output_type": "execute_result"
    }
   ],
   "source": [
    "train_x[1].shape, train_x[0].shape"
   ]
  },
  {
   "cell_type": "code",
   "execution_count": 13,
   "metadata": {
    "colab": {
     "base_uri": "https://localhost:8080/",
     "height": 199
    },
    "colab_type": "code",
    "executionInfo": {
     "elapsed": 9951024,
     "status": "ok",
     "timestamp": 1599138259686,
     "user": {
      "displayName": "정성헌",
      "photoUrl": "",
      "userId": "12794350723891602651"
     },
     "user_tz": -540
    },
    "id": "kLfcBVE-bBZC",
    "outputId": "5a6c618d-b987-4162-f1d2-60647f780f89"
   },
   "outputs": [
    {
     "name": "stdout",
     "output_type": "stream",
     "text": [
      "Epoch 1/5\n",
      "3790/3790 [==============================] - 2069s 546ms/step - loss: 0.5936 - accuracy: 0.6870 - val_loss: 0.4719 - val_accuracy: 0.8026\n",
      "Epoch 2/5\n",
      "3790/3790 [==============================] - 2053s 542ms/step - loss: 0.4237 - accuracy: 0.8277 - val_loss: 0.3590 - val_accuracy: 0.8498\n",
      "Epoch 3/5\n",
      "3790/3790 [==============================] - 2060s 544ms/step - loss: 0.3550 - accuracy: 0.8580 - val_loss: 0.3181 - val_accuracy: 0.8694\n",
      "Epoch 4/5\n",
      "3790/3790 [==============================] - 2060s 543ms/step - loss: 0.3243 - accuracy: 0.8689 - val_loss: 0.2966 - val_accuracy: 0.8807\n",
      "Epoch 5/5\n",
      "3790/3790 [==============================] - 2068s 546ms/step - loss: 0.3025 - accuracy: 0.8793 - val_loss: 0.2838 - val_accuracy: 0.8862\n"
     ]
    }
   ],
   "source": [
    "history = etri_bert_model.fit(train_x, train_y, epochs=5, batch_size=16, verbose = 1, validation_split=0.2, shuffle=True)"
   ]
  },
  {
   "cell_type": "code",
   "execution_count": null,
   "metadata": {
    "colab": {},
    "colab_type": "code",
    "id": "EN45F3qXL8tp"
   },
   "outputs": [],
   "source": [
    "etri_bert_model.save('/content/gdrive/My Drive/myModel/save_01.h5')"
   ]
  },
  {
   "cell_type": "code",
   "execution_count": 14,
   "metadata": {
    "colab": {
     "base_uri": "https://localhost:8080/",
     "height": 283
    },
    "colab_type": "code",
    "executionInfo": {
     "elapsed": 974,
     "status": "ok",
     "timestamp": 1599138262487,
     "user": {
      "displayName": "정성헌",
      "photoUrl": "",
      "userId": "12794350723891602651"
     },
     "user_tz": -540
    },
    "id": "kNBVf5MPL8mk",
    "outputId": "95fdb930-861c-4416-f5b3-b5110aff5bd9"
   },
   "outputs": [
    {
     "data": {
      "image/png": "[encoded data removed]",
      "text/plain": [
       "<Figure size 864x288 with 2 Axes>"
      ]
     },
     "metadata": {
      "tags": []
     },
     "output_type": "display_data"
    }
   ],
   "source": [
    "import matplotlib.pyplot as plt\n",
    "plt.style.use('seaborn')\n",
    "plt.figure(figsize=(12, 4))\n",
    "\n",
    "plt.subplot(1, 2, 1)\n",
    "plt.plot(history.history['loss'], 'b-', label='loss')\n",
    "plt.plot(history.history['val_loss'], 'r--', label='val_loss')\n",
    "plt.xlabel('Epoch')\n",
    "\n",
    "plt.legend()\n",
    "\n",
    "plt.subplot(1, 2, 2)\n",
    "plt.plot(history.history['accuracy'], 'g-', label='accuracy')\n",
    "plt.plot(history.history['val_accuracy'], 'k--', label='val_accuracy')\n",
    "plt.xlabel('Epoch')\n",
    "plt.ylim(0, 1)\n",
    "plt.legend()\n",
    "\n",
    "plt.show()"
   ]
  },
  {
   "cell_type": "code",
   "execution_count": 17,
   "metadata": {
    "colab": {
     "base_uri": "https://localhost:8080/",
     "height": 54
    },
    "colab_type": "code",
    "executionInfo": {
     "elapsed": 157225,
     "status": "ok",
     "timestamp": 1599139292383,
     "user": {
      "displayName": "정성헌",
      "photoUrl": "",
      "userId": "12794350723891602651"
     },
     "user_tz": -540
    },
    "id": "4dlyjem2L8gv",
    "outputId": "5bdb58bb-98df-4856-f6ee-e4d37e190386"
   },
   "outputs": [
    {
     "name": "stdout",
     "output_type": "stream",
     "text": [
      "790/790 [==============================] - 156s 198ms/step - loss: 0.2690 - accuracy: 0.8970\n"
     ]
    },
    {
     "data": {
      "text/plain": [
       "[0.26901257038116455, 0.896972119808197]"
      ]
     },
     "execution_count": 17,
     "metadata": {
      "tags": []
     },
     "output_type": "execute_result"
    }
   ],
   "source": [
    "etri_bert_model.evaluate(test_x, test_y)"
   ]
  },
  {
   "cell_type": "code",
   "execution_count": null,
   "metadata": {
    "colab": {},
    "colab_type": "code",
    "id": "DZRqOhqXL8ak"
   },
   "outputs": [],
   "source": []
  },
  {
   "cell_type": "code",
   "execution_count": null,
   "metadata": {
    "colab": {},
    "colab_type": "code",
    "id": "mc0dbevxL8UC"
   },
   "outputs": [],
   "source": []
  },
  {
   "cell_type": "code",
   "execution_count": null,
   "metadata": {
    "colab": {},
    "colab_type": "code",
    "id": "GvWsNbIvL8N4"
   },
   "outputs": [],
   "source": []
  },
  {
   "cell_type": "code",
   "execution_count": null,
   "metadata": {
    "colab": {},
    "colab_type": "code",
    "id": "Dr3satdXL8HO"
   },
   "outputs": [],
   "source": []
  },
  {
   "cell_type": "code",
   "execution_count": 15,
   "metadata": {
    "colab": {},
    "colab_type": "code",
    "executionInfo": {
     "elapsed": 923,
     "status": "ok",
     "timestamp": 1599138748921,
     "user": {
      "displayName": "정성헌",
      "photoUrl": "",
      "userId": "12794350723891602651"
     },
     "user_tz": -540
    },
    "id": "T0yh1bKIL7st"
   },
   "outputs": [],
   "source": [
    "import keras\n",
    "from keras_radam import RAdam\n",
    "\n",
    "import pandas as pd\n",
    "import numpy as np  \n",
    "import re\n",
    "import pickle\n",
    "\n",
    "import keras as keras\n",
    "from keras.models import load_model\n",
    "from keras import backend as K\n",
    "from keras import Input, Model\n",
    "from keras import optimizers\n",
    "\n",
    "import codecs\n",
    "from tqdm import tqdm\n",
    "import shutil"
   ]
  },
  {
   "cell_type": "code",
   "execution_count": null,
   "metadata": {
    "colab": {},
    "colab_type": "code",
    "id": "NVCf9LA9bDth"
   },
   "outputs": [],
   "source": [
    "import keras\n",
    "from keras_bert import get_custom_objects\n",
    "\n",
    "new_model = keras.models.load_model('/content/gdrive/My Drive/myModel/save_01.h5', custom_objects=get_custom_objects())\n",
    "new_model2 = get_bert_finetuning_model(new_model)"
   ]
  },
  {
   "cell_type": "code",
   "execution_count": null,
   "metadata": {
    "colab": {},
    "colab_type": "code",
    "id": "doeUuldfLEy4"
   },
   "outputs": [],
   "source": [
    "def predict_convert_data(data_df):\n",
    "    SEQ_LEN = 64 #SEQ_LEN : 버트에 들어갈 인풋의 길이\n",
    "    \n",
    "    tokens, masks, segments, targets = [], [], [], []\n",
    "    \n",
    "    for i in tqdm(range(len(data_df))):\n",
    "        # token : 문장을 토큰화함\n",
    "        token = tokenizer.tokenize(data_df[DATA_COLUMN][i])\n",
    "        token = tokenizer.convert_tokens_to_ids(token)\n",
    "        token = token + [0]*(SEQ_LEN - len(token))\n",
    "        # 마스크는 토큰화한 문장에서 패딩이 아닌 부분은 1, 패딩인 부분은 0으로 통일\n",
    "        num_zeros = token.count(0)\n",
    "        mask = [1]*(SEQ_LEN-num_zeros) + [0]*num_zeros\n",
    "        \n",
    "        # 문장의 전후관계를 구분해주는 세그먼트는 문장이 1개밖에 없으므로 모두 0\n",
    "        segment = [0]*SEQ_LEN\n",
    "\n",
    "        # 버트 인풋으로 들어가는 token, mask, segment를 tokens, segments에 각각 저장\n",
    "        tokens.append(token)\n",
    "        masks.append(mask)\n",
    "        segments.append(segment)\n",
    "        \n",
    "        # 정답(긍정 : 1 부정 0)을 targets 변수에 저장해 줌\n",
    "\n",
    "    # tokens, masks, segments, 정답 변수 targets를 numpy array로 지정    \n",
    "    tokens = np.array(tokens)\n",
    "    masks = np.array(masks)\n",
    "    segments = np.array(segments)\n",
    "    targets = np.array(targets)\n",
    "\n",
    "    return [tokens, segments]"
   ]
  },
  {
   "cell_type": "code",
   "execution_count": null,
   "metadata": {
    "colab": {},
    "colab_type": "code",
    "id": "owCSXzukLWg5"
   },
   "outputs": [],
   "source": [
    "import pandas as pd\n",
    "\n",
    "df = pd.read_csv('/content/gdrive/My Drive/mydata/dongrae_data.csv')"
   ]
  },
  {
   "cell_type": "code",
   "execution_count": null,
   "metadata": {
    "colab": {},
    "colab_type": "code",
    "id": "ZxhtC_kZLglp"
   },
   "outputs": [],
   "source": [
    "DATA_COLUMN = 'document'"
   ]
  },
  {
   "cell_type": "code",
   "execution_count": null,
   "metadata": {
    "colab": {},
    "colab_type": "code",
    "id": "6NNnLEtvLu59"
   },
   "outputs": [],
   "source": [
    "import pickle\n",
    "with open('/content/gdrive/My Drive/mydata/dongrae_data_token.pickle', 'rb') as f:\n",
    "  train_x = pickle.load(f)"
   ]
  },
  {
   "cell_type": "code",
   "execution_count": null,
   "metadata": {
    "colab": {},
    "colab_type": "code",
    "id": "sOP5opyxQH7U"
   },
   "outputs": [],
   "source": [
    "def movie_evaluation_predict(data_x):\n",
    "    predict = new_model2.predict(data_x)\n",
    "    predict_value = np.ravel(predict)\n",
    "    return predict_value\n",
    "    #if predict_answer == 0:\n",
    "    #  print(\"(부정 확률 : %.2f) 부정적인 영화 평가입니다.\" % (1-predict_value))\n",
    "    #elif predict_answer == 1:\n",
    "    #  print(\"(긍정 확률 : %.2f) 긍정적인 영화 평가입니다.\" % predict_value)"
   ]
  },
  {
   "cell_type": "code",
   "execution_count": null,
   "metadata": {
    "colab": {
     "base_uri": "https://localhost:8080/",
     "height": 74
    },
    "colab_type": "code",
    "executionInfo": {
     "elapsed": 41576,
     "status": "ok",
     "timestamp": 1598423280325,
     "user": {
      "displayName": "정성헌",
      "photoUrl": "",
      "userId": "12794350723891602651"
     },
     "user_tz": -540
    },
    "id": "10GBL-bJLmlo",
    "outputId": "ab785e75-4bad-4ebf-b3e9-4db4ca9678cc"
   },
   "outputs": [
    {
     "name": "stdout",
     "output_type": "stream",
     "text": [
      "WARNING:tensorflow:Model was constructed with shape (None, 256) for input Tensor(\"Input-Token_1:0\", shape=(None, 256), dtype=float32), but it was called on an input with incompatible shape (32, 1).\n",
      "WARNING:tensorflow:Model was constructed with shape (None, 256) for input Tensor(\"Input-Segment_1:0\", shape=(None, 256), dtype=float32), but it was called on an input with incompatible shape (32, 1).\n"
     ]
    }
   ],
   "source": [
    "pred = []\n",
    "for i in range(len(train_x[0])):\n",
    "  pred.append(movie_evaluation_predict([train_x[0][i], train_x[1][i]]))"
   ]
  },
  {
   "cell_type": "code",
   "execution_count": null,
   "metadata": {
    "colab": {},
    "colab_type": "code",
    "id": "dURv8yX0YqOZ"
   },
   "outputs": [],
   "source": [
    "df.drop([277, 450], inplace=True)"
   ]
  },
  {
   "cell_type": "code",
   "execution_count": null,
   "metadata": {
    "colab": {},
    "colab_type": "code",
    "id": "hqY6TuYCZF1_"
   },
   "outputs": [],
   "source": [
    "train_x[0] = np.delete(train_x[0], (450), axis=0)\n",
    "train_x[1] = np.delete(train_x[1], (450), axis=0)\n",
    "train_x[0] = np.delete(train_x[0], (277), axis=0)\n",
    "train_x[1] = np.delete(train_x[1], (277), axis=0)"
   ]
  },
  {
   "cell_type": "code",
   "execution_count": null,
   "metadata": {
    "colab": {},
    "colab_type": "code",
    "id": "i4_U1I5sb8jF"
   },
   "outputs": [],
   "source": []
  }
 ],
 "metadata": {
  "accelerator": "GPU",
  "colab": {
   "authorship_tag": "ABX9TyMpw4yKze8weJhP9ZOxyggT",
   "collapsed_sections": [],
   "name": "koBERT-ETRI.ipynb",
   "provenance": []
  },
  "kernelspec": {
   "display_name": "Python 3",
   "language": "python",
   "name": "python3"
  },
  "language_info": {
   "codemirror_mode": {
    "name": "ipython",
    "version": 3
   },
   "file_extension": ".py",
   "mimetype": "text/x-python",
   "name": "python",
   "nbconvert_exporter": "python",
   "pygments_lexer": "ipython3",
   "version": "3.8.5"
  }
 },
 "nbformat": 4,
 "nbformat_minor": 4
}
